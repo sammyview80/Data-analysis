{
 "cells": [
  {
   "cell_type": "markdown",
   "metadata": {},
   "source": [
    "## Prediction of house price of USA\n",
    "\n",
    "We're going to take the following approch:\n",
    "\n",
    "1. Problem defination\n",
    "2. Data\n",
    "3. Evaluation\n",
    "4. Features\n",
    "5. Modelling\n",
    "6. Exprimentation\n",
    "\n",
    "### 1. Problem defination:\n",
    "\n",
    "In statement:\n",
    "> This is the data set of house in US and we've to predict the price of the house based on this data set.\n",
    "\n",
    "### 2. Data :\n",
    "Here data is from kaggle.com : Link: https://www.kaggle.com/harlfoxem/housesalesprediction\n",
    "\n",
    "### 3. Evaluation:\n",
    "> At lest 90% accuracy is required.\n",
    "\n",
    "\n",
    "### 4. Features:\n",
    "\n",
    "\n",
    "* id: Unique id of the house.\n",
    "* date: Date when data is taken.\n",
    "* price: Price of the house.\n",
    "* bedrooms: NO of bedrooms.\n",
    "* bathrooms: No of bathrooms.\n",
    "* sqft_living: Area of \n",
    "* sqft_lot\n",
    "* floors\n",
    "* waterfront\n",
    "* view\n",
    "* condition\n",
    "* grade\n",
    "* sqft_above\n",
    "* sqft_basement\n",
    "* yr_built\n",
    "* yr_renovated\n",
    "* zipcode\n",
    "* lat\n",
    "* long\n",
    "* sqft_living15\n",
    "* sqft_lot15"
   ]
  },
  {
   "cell_type": "markdown",
   "metadata": {},
   "source": [
    "\n",
    "# 1. Preparing the tools:"
   ]
  },
  {
   "cell_type": "code",
   "execution_count": 1,
   "metadata": {},
   "outputs": [],
   "source": [
    "# Regular EDA (exploratory data analysis) and plotting libraries\n",
    "import numpy as np\n",
    "import pandas as pd\n",
    "import matplotlib.pyplot as plt\n",
    "import seaborn as sns\n",
    "\n",
    "%matplotlib inline  "
   ]
  },
  {
   "cell_type": "markdown",
   "metadata": {},
   "source": [
    "# 2. Data Analysis"
   ]
  },
  {
   "cell_type": "code",
   "execution_count": 2,
   "metadata": {},
   "outputs": [
    {
     "data": {
      "text/html": [
       "<div>\n",
       "<style scoped>\n",
       "    .dataframe tbody tr th:only-of-type {\n",
       "        vertical-align: middle;\n",
       "    }\n",
       "\n",
       "    .dataframe tbody tr th {\n",
       "        vertical-align: top;\n",
       "    }\n",
       "\n",
       "    .dataframe thead th {\n",
       "        text-align: right;\n",
       "    }\n",
       "</style>\n",
       "<table border=\"1\" class=\"dataframe\">\n",
       "  <thead>\n",
       "    <tr style=\"text-align: right;\">\n",
       "      <th></th>\n",
       "      <th>date</th>\n",
       "      <th>price</th>\n",
       "      <th>bedrooms</th>\n",
       "      <th>bathrooms</th>\n",
       "      <th>sqft_living</th>\n",
       "      <th>sqft_lot</th>\n",
       "      <th>floors</th>\n",
       "      <th>waterfront</th>\n",
       "      <th>view</th>\n",
       "      <th>condition</th>\n",
       "      <th>sqft_above</th>\n",
       "      <th>sqft_basement</th>\n",
       "      <th>yr_built</th>\n",
       "      <th>yr_renovated</th>\n",
       "      <th>street</th>\n",
       "      <th>city</th>\n",
       "      <th>statezip</th>\n",
       "      <th>country</th>\n",
       "    </tr>\n",
       "  </thead>\n",
       "  <tbody>\n",
       "    <tr>\n",
       "      <th>0</th>\n",
       "      <td>2014-05-02 00:00:00</td>\n",
       "      <td>313000.0</td>\n",
       "      <td>3.0</td>\n",
       "      <td>1.50</td>\n",
       "      <td>1340</td>\n",
       "      <td>7912</td>\n",
       "      <td>1.5</td>\n",
       "      <td>0</td>\n",
       "      <td>0</td>\n",
       "      <td>3</td>\n",
       "      <td>1340</td>\n",
       "      <td>0</td>\n",
       "      <td>1955</td>\n",
       "      <td>2005</td>\n",
       "      <td>18810 Densmore Ave N</td>\n",
       "      <td>Shoreline</td>\n",
       "      <td>WA 98133</td>\n",
       "      <td>USA</td>\n",
       "    </tr>\n",
       "    <tr>\n",
       "      <th>1</th>\n",
       "      <td>2014-05-02 00:00:00</td>\n",
       "      <td>2384000.0</td>\n",
       "      <td>5.0</td>\n",
       "      <td>2.50</td>\n",
       "      <td>3650</td>\n",
       "      <td>9050</td>\n",
       "      <td>2.0</td>\n",
       "      <td>0</td>\n",
       "      <td>4</td>\n",
       "      <td>5</td>\n",
       "      <td>3370</td>\n",
       "      <td>280</td>\n",
       "      <td>1921</td>\n",
       "      <td>0</td>\n",
       "      <td>709 W Blaine St</td>\n",
       "      <td>Seattle</td>\n",
       "      <td>WA 98119</td>\n",
       "      <td>USA</td>\n",
       "    </tr>\n",
       "    <tr>\n",
       "      <th>2</th>\n",
       "      <td>2014-05-02 00:00:00</td>\n",
       "      <td>342000.0</td>\n",
       "      <td>3.0</td>\n",
       "      <td>2.00</td>\n",
       "      <td>1930</td>\n",
       "      <td>11947</td>\n",
       "      <td>1.0</td>\n",
       "      <td>0</td>\n",
       "      <td>0</td>\n",
       "      <td>4</td>\n",
       "      <td>1930</td>\n",
       "      <td>0</td>\n",
       "      <td>1966</td>\n",
       "      <td>0</td>\n",
       "      <td>26206-26214 143rd Ave SE</td>\n",
       "      <td>Kent</td>\n",
       "      <td>WA 98042</td>\n",
       "      <td>USA</td>\n",
       "    </tr>\n",
       "    <tr>\n",
       "      <th>3</th>\n",
       "      <td>2014-05-02 00:00:00</td>\n",
       "      <td>420000.0</td>\n",
       "      <td>3.0</td>\n",
       "      <td>2.25</td>\n",
       "      <td>2000</td>\n",
       "      <td>8030</td>\n",
       "      <td>1.0</td>\n",
       "      <td>0</td>\n",
       "      <td>0</td>\n",
       "      <td>4</td>\n",
       "      <td>1000</td>\n",
       "      <td>1000</td>\n",
       "      <td>1963</td>\n",
       "      <td>0</td>\n",
       "      <td>857 170th Pl NE</td>\n",
       "      <td>Bellevue</td>\n",
       "      <td>WA 98008</td>\n",
       "      <td>USA</td>\n",
       "    </tr>\n",
       "    <tr>\n",
       "      <th>4</th>\n",
       "      <td>2014-05-02 00:00:00</td>\n",
       "      <td>550000.0</td>\n",
       "      <td>4.0</td>\n",
       "      <td>2.50</td>\n",
       "      <td>1940</td>\n",
       "      <td>10500</td>\n",
       "      <td>1.0</td>\n",
       "      <td>0</td>\n",
       "      <td>0</td>\n",
       "      <td>4</td>\n",
       "      <td>1140</td>\n",
       "      <td>800</td>\n",
       "      <td>1976</td>\n",
       "      <td>1992</td>\n",
       "      <td>9105 170th Ave NE</td>\n",
       "      <td>Redmond</td>\n",
       "      <td>WA 98052</td>\n",
       "      <td>USA</td>\n",
       "    </tr>\n",
       "  </tbody>\n",
       "</table>\n",
       "</div>"
      ],
      "text/plain": [
       "                  date      price  bedrooms  bathrooms  sqft_living  sqft_lot  \\\n",
       "0  2014-05-02 00:00:00   313000.0       3.0       1.50         1340      7912   \n",
       "1  2014-05-02 00:00:00  2384000.0       5.0       2.50         3650      9050   \n",
       "2  2014-05-02 00:00:00   342000.0       3.0       2.00         1930     11947   \n",
       "3  2014-05-02 00:00:00   420000.0       3.0       2.25         2000      8030   \n",
       "4  2014-05-02 00:00:00   550000.0       4.0       2.50         1940     10500   \n",
       "\n",
       "   floors  waterfront  view  condition  sqft_above  sqft_basement  yr_built  \\\n",
       "0     1.5           0     0          3        1340              0      1955   \n",
       "1     2.0           0     4          5        3370            280      1921   \n",
       "2     1.0           0     0          4        1930              0      1966   \n",
       "3     1.0           0     0          4        1000           1000      1963   \n",
       "4     1.0           0     0          4        1140            800      1976   \n",
       "\n",
       "   yr_renovated                    street       city  statezip country  \n",
       "0          2005      18810 Densmore Ave N  Shoreline  WA 98133     USA  \n",
       "1             0           709 W Blaine St    Seattle  WA 98119     USA  \n",
       "2             0  26206-26214 143rd Ave SE       Kent  WA 98042     USA  \n",
       "3             0           857 170th Pl NE   Bellevue  WA 98008     USA  \n",
       "4          1992         9105 170th Ave NE    Redmond  WA 98052     USA  "
      ]
     },
     "execution_count": 2,
     "metadata": {},
     "output_type": "execute_result"
    }
   ],
   "source": [
    "df = pd.read_csv('./housedata/data.csv')\n",
    "df.head()"
   ]
  },
  {
   "cell_type": "markdown",
   "metadata": {},
   "source": [
    "Data Exploration (EDA or ecploratory data analysis)\n",
    "The goal here is to find out more about data and become a subjects matter exploration on the dataset you're working.\n",
    "\n",
    "1. What question's are you trying too solve?\n",
    "2. What kind of data do you have and how do we treat different types?\n",
    "3. What's missing from the data and how do you deat with it?\n",
    "4. Where are the outliers and why should you care about them?\n",
    "5. How can you add, change or remove features to get more out of you data?"
   ]
  },
  {
   "cell_type": "code",
   "execution_count": 3,
   "metadata": {},
   "outputs": [
    {
     "data": {
      "text/plain": [
       "Index(['date', 'price', 'bedrooms', 'bathrooms', 'sqft_living', 'sqft_lot',\n",
       "       'floors', 'waterfront', 'view', 'condition', 'sqft_above',\n",
       "       'sqft_basement', 'yr_built', 'yr_renovated', 'street', 'city',\n",
       "       'statezip', 'country'],\n",
       "      dtype='object')"
      ]
     },
     "execution_count": 3,
     "metadata": {},
     "output_type": "execute_result"
    }
   ],
   "source": [
    "df.columns"
   ]
  },
  {
   "cell_type": "markdown",
   "metadata": {},
   "source": [
    "#### 1. What question's are you trying to solve?\n",
    "Regression problem, we've to predict the value of the house based on the features\n",
    "                **[date', 'bedrooms', 'bathrooms', 'sqft_living', 'sqft_lot',\n",
    "               'floors', 'waterfront', 'view', 'condition', 'sqft_above',\n",
    "               'sqft_basement', 'yr_built', 'yr_renovated', 'street', 'city',\n",
    "               'statezip'].**\n",
    "               \n",
    "And predict the price.\n",
    "\n",
    "#### 2. What kind of data do you have and how do we treat different types?\n",
    "\n",
    "We have 4 object columns so we've to use OneHotEncoder for changing the object into the corresponding numerical values. And the `country` column is useless as all of them is from USA\n",
    "\n",
    "#### 3. What's missing from the data and how do you deat with it?"
   ]
  },
  {
   "cell_type": "code",
   "execution_count": 4,
   "metadata": {},
   "outputs": [
    {
     "data": {
      "text/plain": [
       "date             0\n",
       "price            0\n",
       "bedrooms         0\n",
       "bathrooms        0\n",
       "sqft_living      0\n",
       "sqft_lot         0\n",
       "floors           0\n",
       "waterfront       0\n",
       "view             0\n",
       "condition        0\n",
       "sqft_above       0\n",
       "sqft_basement    0\n",
       "yr_built         0\n",
       "yr_renovated     0\n",
       "street           0\n",
       "city             0\n",
       "statezip         0\n",
       "country          0\n",
       "dtype: int64"
      ]
     },
     "execution_count": 4,
     "metadata": {},
     "output_type": "execute_result"
    }
   ],
   "source": [
    "df.isna().sum()"
   ]
  },
  {
   "cell_type": "markdown",
   "metadata": {},
   "source": [
    "No NaN values. Their might be 0 values in price columns...\n",
    "\n",
    "Checking the 0 value in price column."
   ]
  },
  {
   "cell_type": "code",
   "execution_count": 5,
   "metadata": {},
   "outputs": [
    {
     "data": {
      "text/plain": [
       "0.0         49\n",
       "300000.0    42\n",
       "400000.0    31\n",
       "450000.0    29\n",
       "600000.0    29\n",
       "            ..\n",
       "586500.0     1\n",
       "693000.0     1\n",
       "226500.0     1\n",
       "257200.0     1\n",
       "256000.0     1\n",
       "Name: price, Length: 1741, dtype: int64"
      ]
     },
     "execution_count": 5,
     "metadata": {},
     "output_type": "execute_result"
    }
   ],
   "source": [
    "df.price.value_counts()"
   ]
  },
  {
   "cell_type": "markdown",
   "metadata": {},
   "source": [
    "There are 49 0 values in price columns. Hence, we have to clean price column."
   ]
  },
  {
   "cell_type": "code",
   "execution_count": 6,
   "metadata": {},
   "outputs": [
    {
     "data": {
      "text/plain": [
       "1940    32\n",
       "1720    32\n",
       "1660    31\n",
       "1840    31\n",
       "2000    30\n",
       "        ..\n",
       "4200     1\n",
       "4160     1\n",
       "2015     1\n",
       "2009     1\n",
       "4110     1\n",
       "Name: sqft_living, Length: 566, dtype: int64"
      ]
     },
     "execution_count": 6,
     "metadata": {},
     "output_type": "execute_result"
    }
   ],
   "source": [
    "# Checking for feature sqft_living:\n",
    "df.sqft_living.value_counts()"
   ]
  },
  {
   "cell_type": "code",
   "execution_count": 7,
   "metadata": {},
   "outputs": [
    {
     "data": {
      "text/plain": [
       "5000     80\n",
       "6000     65\n",
       "4000     54\n",
       "7200     50\n",
       "4800     29\n",
       "         ..\n",
       "1130      1\n",
       "11367     1\n",
       "5220      1\n",
       "3171      1\n",
       "18804     1\n",
       "Name: sqft_lot, Length: 3113, dtype: int64"
      ]
     },
     "execution_count": 7,
     "metadata": {},
     "output_type": "execute_result"
    }
   ],
   "source": [
    "# Checking for features sqft_lot:\n",
    "df.sqft_lot.value_counts()"
   ]
  },
  {
   "cell_type": "code",
   "execution_count": 8,
   "metadata": {},
   "outputs": [
    {
     "name": "stdout",
     "output_type": "stream",
     "text": [
      "<class 'pandas.core.frame.DataFrame'>\n",
      "RangeIndex: 4600 entries, 0 to 4599\n",
      "Data columns (total 18 columns):\n",
      " #   Column         Non-Null Count  Dtype  \n",
      "---  ------         --------------  -----  \n",
      " 0   date           4600 non-null   object \n",
      " 1   price          4600 non-null   float64\n",
      " 2   bedrooms       4600 non-null   float64\n",
      " 3   bathrooms      4600 non-null   float64\n",
      " 4   sqft_living    4600 non-null   int64  \n",
      " 5   sqft_lot       4600 non-null   int64  \n",
      " 6   floors         4600 non-null   float64\n",
      " 7   waterfront     4600 non-null   int64  \n",
      " 8   view           4600 non-null   int64  \n",
      " 9   condition      4600 non-null   int64  \n",
      " 10  sqft_above     4600 non-null   int64  \n",
      " 11  sqft_basement  4600 non-null   int64  \n",
      " 12  yr_built       4600 non-null   int64  \n",
      " 13  yr_renovated   4600 non-null   int64  \n",
      " 14  street         4600 non-null   object \n",
      " 15  city           4600 non-null   object \n",
      " 16  statezip       4600 non-null   object \n",
      " 17  country        4600 non-null   object \n",
      "dtypes: float64(4), int64(9), object(5)\n",
      "memory usage: 647.0+ KB\n"
     ]
    }
   ],
   "source": [
    "df.info()"
   ]
  },
  {
   "cell_type": "code",
   "execution_count": 9,
   "metadata": {},
   "outputs": [
    {
     "data": {
      "text/html": [
       "<div>\n",
       "<style scoped>\n",
       "    .dataframe tbody tr th:only-of-type {\n",
       "        vertical-align: middle;\n",
       "    }\n",
       "\n",
       "    .dataframe tbody tr th {\n",
       "        vertical-align: top;\n",
       "    }\n",
       "\n",
       "    .dataframe thead th {\n",
       "        text-align: right;\n",
       "    }\n",
       "</style>\n",
       "<table border=\"1\" class=\"dataframe\">\n",
       "  <thead>\n",
       "    <tr style=\"text-align: right;\">\n",
       "      <th></th>\n",
       "      <th>price</th>\n",
       "      <th>bedrooms</th>\n",
       "      <th>bathrooms</th>\n",
       "      <th>sqft_living</th>\n",
       "      <th>sqft_lot</th>\n",
       "      <th>floors</th>\n",
       "      <th>waterfront</th>\n",
       "      <th>view</th>\n",
       "      <th>condition</th>\n",
       "      <th>sqft_above</th>\n",
       "      <th>sqft_basement</th>\n",
       "      <th>yr_built</th>\n",
       "      <th>yr_renovated</th>\n",
       "    </tr>\n",
       "  </thead>\n",
       "  <tbody>\n",
       "    <tr>\n",
       "      <th>count</th>\n",
       "      <td>4.600000e+03</td>\n",
       "      <td>4600.000000</td>\n",
       "      <td>4600.000000</td>\n",
       "      <td>4600.000000</td>\n",
       "      <td>4.600000e+03</td>\n",
       "      <td>4600.000000</td>\n",
       "      <td>4600.000000</td>\n",
       "      <td>4600.000000</td>\n",
       "      <td>4600.000000</td>\n",
       "      <td>4600.000000</td>\n",
       "      <td>4600.000000</td>\n",
       "      <td>4600.000000</td>\n",
       "      <td>4600.000000</td>\n",
       "    </tr>\n",
       "    <tr>\n",
       "      <th>mean</th>\n",
       "      <td>5.519630e+05</td>\n",
       "      <td>3.400870</td>\n",
       "      <td>2.160815</td>\n",
       "      <td>2139.346957</td>\n",
       "      <td>1.485252e+04</td>\n",
       "      <td>1.512065</td>\n",
       "      <td>0.007174</td>\n",
       "      <td>0.240652</td>\n",
       "      <td>3.451739</td>\n",
       "      <td>1827.265435</td>\n",
       "      <td>312.081522</td>\n",
       "      <td>1970.786304</td>\n",
       "      <td>808.608261</td>\n",
       "    </tr>\n",
       "    <tr>\n",
       "      <th>std</th>\n",
       "      <td>5.638347e+05</td>\n",
       "      <td>0.908848</td>\n",
       "      <td>0.783781</td>\n",
       "      <td>963.206916</td>\n",
       "      <td>3.588444e+04</td>\n",
       "      <td>0.538288</td>\n",
       "      <td>0.084404</td>\n",
       "      <td>0.778405</td>\n",
       "      <td>0.677230</td>\n",
       "      <td>862.168977</td>\n",
       "      <td>464.137228</td>\n",
       "      <td>29.731848</td>\n",
       "      <td>979.414536</td>\n",
       "    </tr>\n",
       "    <tr>\n",
       "      <th>min</th>\n",
       "      <td>0.000000e+00</td>\n",
       "      <td>0.000000</td>\n",
       "      <td>0.000000</td>\n",
       "      <td>370.000000</td>\n",
       "      <td>6.380000e+02</td>\n",
       "      <td>1.000000</td>\n",
       "      <td>0.000000</td>\n",
       "      <td>0.000000</td>\n",
       "      <td>1.000000</td>\n",
       "      <td>370.000000</td>\n",
       "      <td>0.000000</td>\n",
       "      <td>1900.000000</td>\n",
       "      <td>0.000000</td>\n",
       "    </tr>\n",
       "    <tr>\n",
       "      <th>25%</th>\n",
       "      <td>3.228750e+05</td>\n",
       "      <td>3.000000</td>\n",
       "      <td>1.750000</td>\n",
       "      <td>1460.000000</td>\n",
       "      <td>5.000750e+03</td>\n",
       "      <td>1.000000</td>\n",
       "      <td>0.000000</td>\n",
       "      <td>0.000000</td>\n",
       "      <td>3.000000</td>\n",
       "      <td>1190.000000</td>\n",
       "      <td>0.000000</td>\n",
       "      <td>1951.000000</td>\n",
       "      <td>0.000000</td>\n",
       "    </tr>\n",
       "    <tr>\n",
       "      <th>50%</th>\n",
       "      <td>4.609435e+05</td>\n",
       "      <td>3.000000</td>\n",
       "      <td>2.250000</td>\n",
       "      <td>1980.000000</td>\n",
       "      <td>7.683000e+03</td>\n",
       "      <td>1.500000</td>\n",
       "      <td>0.000000</td>\n",
       "      <td>0.000000</td>\n",
       "      <td>3.000000</td>\n",
       "      <td>1590.000000</td>\n",
       "      <td>0.000000</td>\n",
       "      <td>1976.000000</td>\n",
       "      <td>0.000000</td>\n",
       "    </tr>\n",
       "    <tr>\n",
       "      <th>75%</th>\n",
       "      <td>6.549625e+05</td>\n",
       "      <td>4.000000</td>\n",
       "      <td>2.500000</td>\n",
       "      <td>2620.000000</td>\n",
       "      <td>1.100125e+04</td>\n",
       "      <td>2.000000</td>\n",
       "      <td>0.000000</td>\n",
       "      <td>0.000000</td>\n",
       "      <td>4.000000</td>\n",
       "      <td>2300.000000</td>\n",
       "      <td>610.000000</td>\n",
       "      <td>1997.000000</td>\n",
       "      <td>1999.000000</td>\n",
       "    </tr>\n",
       "    <tr>\n",
       "      <th>max</th>\n",
       "      <td>2.659000e+07</td>\n",
       "      <td>9.000000</td>\n",
       "      <td>8.000000</td>\n",
       "      <td>13540.000000</td>\n",
       "      <td>1.074218e+06</td>\n",
       "      <td>3.500000</td>\n",
       "      <td>1.000000</td>\n",
       "      <td>4.000000</td>\n",
       "      <td>5.000000</td>\n",
       "      <td>9410.000000</td>\n",
       "      <td>4820.000000</td>\n",
       "      <td>2014.000000</td>\n",
       "      <td>2014.000000</td>\n",
       "    </tr>\n",
       "  </tbody>\n",
       "</table>\n",
       "</div>"
      ],
      "text/plain": [
       "              price     bedrooms    bathrooms   sqft_living      sqft_lot  \\\n",
       "count  4.600000e+03  4600.000000  4600.000000   4600.000000  4.600000e+03   \n",
       "mean   5.519630e+05     3.400870     2.160815   2139.346957  1.485252e+04   \n",
       "std    5.638347e+05     0.908848     0.783781    963.206916  3.588444e+04   \n",
       "min    0.000000e+00     0.000000     0.000000    370.000000  6.380000e+02   \n",
       "25%    3.228750e+05     3.000000     1.750000   1460.000000  5.000750e+03   \n",
       "50%    4.609435e+05     3.000000     2.250000   1980.000000  7.683000e+03   \n",
       "75%    6.549625e+05     4.000000     2.500000   2620.000000  1.100125e+04   \n",
       "max    2.659000e+07     9.000000     8.000000  13540.000000  1.074218e+06   \n",
       "\n",
       "            floors   waterfront         view    condition   sqft_above  \\\n",
       "count  4600.000000  4600.000000  4600.000000  4600.000000  4600.000000   \n",
       "mean      1.512065     0.007174     0.240652     3.451739  1827.265435   \n",
       "std       0.538288     0.084404     0.778405     0.677230   862.168977   \n",
       "min       1.000000     0.000000     0.000000     1.000000   370.000000   \n",
       "25%       1.000000     0.000000     0.000000     3.000000  1190.000000   \n",
       "50%       1.500000     0.000000     0.000000     3.000000  1590.000000   \n",
       "75%       2.000000     0.000000     0.000000     4.000000  2300.000000   \n",
       "max       3.500000     1.000000     4.000000     5.000000  9410.000000   \n",
       "\n",
       "       sqft_basement     yr_built  yr_renovated  \n",
       "count    4600.000000  4600.000000   4600.000000  \n",
       "mean      312.081522  1970.786304    808.608261  \n",
       "std       464.137228    29.731848    979.414536  \n",
       "min         0.000000  1900.000000      0.000000  \n",
       "25%         0.000000  1951.000000      0.000000  \n",
       "50%         0.000000  1976.000000      0.000000  \n",
       "75%       610.000000  1997.000000   1999.000000  \n",
       "max      4820.000000  2014.000000   2014.000000  "
      ]
     },
     "execution_count": 9,
     "metadata": {},
     "output_type": "execute_result"
    }
   ],
   "source": [
    "df.describe()\n"
   ]
  },
  {
   "cell_type": "markdown",
   "metadata": {},
   "source": [
    "### EDA ( Exploratory data analysis)"
   ]
  },
  {
   "cell_type": "code",
   "execution_count": 10,
   "metadata": {},
   "outputs": [
    {
     "data": {
      "text/plain": [
       "0       3.0\n",
       "1       5.0\n",
       "2       3.0\n",
       "3       3.0\n",
       "4       4.0\n",
       "       ... \n",
       "4595    3.0\n",
       "4596    3.0\n",
       "4597    3.0\n",
       "4598    4.0\n",
       "4599    3.0\n",
       "Name: bedrooms, Length: 4600, dtype: float64"
      ]
     },
     "execution_count": 10,
     "metadata": {},
     "output_type": "execute_result"
    }
   ],
   "source": [
    "df.bedrooms"
   ]
  },
  {
   "cell_type": "code",
   "execution_count": 11,
   "metadata": {},
   "outputs": [
    {
     "data": {
      "text/plain": [
       "<matplotlib.collections.PathCollection at 0x7fc20fedf590>"
      ]
     },
     "execution_count": 11,
     "metadata": {},
     "output_type": "execute_result"
    },
    {
     "data": {
      "image/png": "[encoded data removed]",
      "text/plain": [
       "<Figure size 720x720 with 1 Axes>"
      ]
     },
     "metadata": {
      "needs_background": "light"
     },
     "output_type": "display_data"
    }
   ],
   "source": [
    "# Price vs. bedrooms\n",
    "plt.figure(figsize=(10,10))\n",
    "\n",
    "plt.yticks(np.arange(0, 10, 1))\n",
    "plt.scatter( df.price,df.bedrooms)"
   ]
  },
  {
   "cell_type": "code",
   "execution_count": 12,
   "metadata": {},
   "outputs": [
    {
     "data": {
      "text/html": [
       "<div>\n",
       "<style scoped>\n",
       "    .dataframe tbody tr th:only-of-type {\n",
       "        vertical-align: middle;\n",
       "    }\n",
       "\n",
       "    .dataframe tbody tr th {\n",
       "        vertical-align: top;\n",
       "    }\n",
       "\n",
       "    .dataframe thead th {\n",
       "        text-align: right;\n",
       "    }\n",
       "</style>\n",
       "<table border=\"1\" class=\"dataframe\">\n",
       "  <thead>\n",
       "    <tr style=\"text-align: right;\">\n",
       "      <th></th>\n",
       "      <th>date</th>\n",
       "      <th>price</th>\n",
       "      <th>bedrooms</th>\n",
       "      <th>bathrooms</th>\n",
       "      <th>sqft_living</th>\n",
       "      <th>sqft_lot</th>\n",
       "      <th>floors</th>\n",
       "      <th>waterfront</th>\n",
       "      <th>view</th>\n",
       "      <th>condition</th>\n",
       "      <th>sqft_above</th>\n",
       "      <th>sqft_basement</th>\n",
       "      <th>yr_built</th>\n",
       "      <th>yr_renovated</th>\n",
       "      <th>street</th>\n",
       "      <th>city</th>\n",
       "      <th>statezip</th>\n",
       "      <th>country</th>\n",
       "    </tr>\n",
       "  </thead>\n",
       "  <tbody>\n",
       "    <tr>\n",
       "      <th>4350</th>\n",
       "      <td>2014-07-03 00:00:00</td>\n",
       "      <td>26590000.0</td>\n",
       "      <td>3.0</td>\n",
       "      <td>2.0</td>\n",
       "      <td>1180</td>\n",
       "      <td>7793</td>\n",
       "      <td>1.0</td>\n",
       "      <td>0</td>\n",
       "      <td>0</td>\n",
       "      <td>4</td>\n",
       "      <td>1180</td>\n",
       "      <td>0</td>\n",
       "      <td>1992</td>\n",
       "      <td>0</td>\n",
       "      <td>12005 SE 219th Ct</td>\n",
       "      <td>Kent</td>\n",
       "      <td>WA 98031</td>\n",
       "      <td>USA</td>\n",
       "    </tr>\n",
       "  </tbody>\n",
       "</table>\n",
       "</div>"
      ],
      "text/plain": [
       "                     date       price  bedrooms  bathrooms  sqft_living  \\\n",
       "4350  2014-07-03 00:00:00  26590000.0       3.0        2.0         1180   \n",
       "\n",
       "      sqft_lot  floors  waterfront  view  condition  sqft_above  \\\n",
       "4350      7793     1.0           0     0          4        1180   \n",
       "\n",
       "      sqft_basement  yr_built  yr_renovated             street  city  \\\n",
       "4350              0      1992             0  12005 SE 219th Ct  Kent   \n",
       "\n",
       "      statezip country  \n",
       "4350  WA 98031     USA  "
      ]
     },
     "execution_count": 12,
     "metadata": {},
     "output_type": "execute_result"
    }
   ],
   "source": [
    "df[df.price == df.price.max()]"
   ]
  },
  {
   "cell_type": "markdown",
   "metadata": {},
   "source": [
    "Removing the 2 maximun price having the bedroom of 3."
   ]
  },
  {
   "cell_type": "code",
   "execution_count": 13,
   "metadata": {},
   "outputs": [],
   "source": [
    "indexOfmax = df[df.price == df.price.max()].index\n",
    "df.drop(indexOfmax, inplace=True)"
   ]
  },
  {
   "cell_type": "markdown",
   "metadata": {},
   "source": [
    "We've found that relation between bedrooms and price is unusual."
   ]
  },
  {
   "cell_type": "code",
   "execution_count": 14,
   "metadata": {},
   "outputs": [],
   "source": [
    "indexOfmax = df[df.price == df.price.max()].index\n",
    "df.drop(indexOfmax, inplace=True)"
   ]
  },
  {
   "cell_type": "markdown",
   "metadata": {},
   "source": [
    "Also removing the price 0. Rows."
   ]
  },
  {
   "cell_type": "code",
   "execution_count": 15,
   "metadata": {},
   "outputs": [],
   "source": [
    "indexZerosprice = df[df.price == 0].index\n",
    "df.drop(indexZerosprice, inplace = True)"
   ]
  },
  {
   "cell_type": "markdown",
   "metadata": {},
   "source": [
    "Showing the relation between Price and Bedrooms."
   ]
  },
  {
   "cell_type": "code",
   "execution_count": 16,
   "metadata": {},
   "outputs": [
    {
     "data": {
      "text/plain": [
       "Text(0, 0.5, 'Bedrooms')"
      ]
     },
     "execution_count": 16,
     "metadata": {},
     "output_type": "execute_result"
    },
    {
     "data": {
      "image/png": "[encoded data removed]",
      "text/plain": [
       "<Figure size 1800x720 with 1 Axes>"
      ]
     },
     "metadata": {
      "needs_background": "light"
     },
     "output_type": "display_data"
    }
   ],
   "source": [
    "# Price vs. bedrooms\n",
    "plt.figure(figsize=(25,10))\n",
    "\n",
    "plt.yticks(np.arange(0, 10, 1))\n",
    "plt.xticks(np.arange(0, 5000000, 200000))\n",
    "plt.scatter( df.price, df.bedrooms)\n",
    "plt.xlabel('Price')\n",
    "plt.ylabel('Bedrooms')"
   ]
  },
  {
   "cell_type": "code",
   "execution_count": 17,
   "metadata": {},
   "outputs": [
    {
     "data": {
      "text/plain": [
       "Index(['date', 'price', 'bedrooms', 'bathrooms', 'sqft_living', 'sqft_lot',\n",
       "       'floors', 'waterfront', 'view', 'condition', 'sqft_above',\n",
       "       'sqft_basement', 'yr_built', 'yr_renovated', 'street', 'city',\n",
       "       'statezip', 'country'],\n",
       "      dtype='object')"
      ]
     },
     "execution_count": 17,
     "metadata": {},
     "output_type": "execute_result"
    }
   ],
   "source": [
    "df.columns"
   ]
  },
  {
   "cell_type": "code",
   "execution_count": 18,
   "metadata": {},
   "outputs": [
    {
     "data": {
      "text/plain": [
       "Text(0, 0.5, 'square feet living')"
      ]
     },
     "execution_count": 18,
     "metadata": {},
     "output_type": "execute_result"
    },
    {
     "data": {
      "image/png": "[encoded data removed]",
      "text/plain": [
       "<Figure size 1800x576 with 1 Axes>"
      ]
     },
     "metadata": {
      "needs_background": "light"
     },
     "output_type": "display_data"
    }
   ],
   "source": [
    "# Price vs. sqft_living\n",
    "plt.figure(figsize=(25, 8))\n",
    "\n",
    "plt.xticks(np.arange(0, 5000000, 200000))\n",
    "plt.scatter(df.price, df.sqft_living)\n",
    "plt.xlabel('Price')\n",
    "plt.ylabel('square feet living')"
   ]
  },
  {
   "cell_type": "code",
   "execution_count": 19,
   "metadata": {},
   "outputs": [
    {
     "data": {
      "text/plain": [
       "3    2850\n",
       "4    1237\n",
       "5     425\n",
       "2      31\n",
       "1       6\n",
       "Name: condition, dtype: int64"
      ]
     },
     "execution_count": 19,
     "metadata": {},
     "output_type": "execute_result"
    }
   ],
   "source": [
    "df.condition.value_counts()"
   ]
  },
  {
   "cell_type": "code",
   "execution_count": 20,
   "metadata": {},
   "outputs": [
    {
     "data": {
      "text/plain": [
       "Text(0, 0.5, 'Price')"
      ]
     },
     "execution_count": 20,
     "metadata": {},
     "output_type": "execute_result"
    },
    {
     "data": {
      "image/png": "[encoded data removed]",
      "text/plain": [
       "<Figure size 720x576 with 1 Axes>"
      ]
     },
     "metadata": {
      "needs_background": "light"
     },
     "output_type": "display_data"
    }
   ],
   "source": [
    "# Price vs . Condition\n",
    "plt.figure(figsize=(10, 8))\n",
    "\n",
    "plt.scatter( df.condition, df.price)\n",
    "plt.xlabel('Condition Rating')\n",
    "plt.ylabel('Price')"
   ]
  },
  {
   "cell_type": "code",
   "execution_count": 21,
   "metadata": {},
   "outputs": [
    {
     "data": {
      "text/plain": [
       "Seattle                1560\n",
       "Renton                  291\n",
       "Bellevue                281\n",
       "Redmond                 235\n",
       "Kirkland                187\n",
       "Issaquah                186\n",
       "Kent                    183\n",
       "Auburn                  175\n",
       "Sammamish               171\n",
       "Federal Way             145\n",
       "Shoreline               123\n",
       "Woodinville             114\n",
       "Maple Valley             95\n",
       "Mercer Island            82\n",
       "Burien                   72\n",
       "Snoqualmie               69\n",
       "Kenmore                  65\n",
       "Des Moines               58\n",
       "North Bend               50\n",
       "Covington                42\n",
       "Duvall                   42\n",
       "Lake Forest Park         34\n",
       "Bothell                  33\n",
       "Newcastle                33\n",
       "Vashon                   29\n",
       "Tukwila                  29\n",
       "SeaTac                   28\n",
       "Enumclaw                 27\n",
       "Carnation                22\n",
       "Normandy Park            17\n",
       "Medina                   11\n",
       "Fall City                11\n",
       "Clyde Hill                9\n",
       "Black Diamond             8\n",
       "Ravensdale                7\n",
       "Pacific                   6\n",
       "Algona                    5\n",
       "Yarrow Point              4\n",
       "Skykomish                 3\n",
       "Milton                    2\n",
       "Preston                   2\n",
       "Snoqualmie Pass           1\n",
       "Inglewood-Finn Hill       1\n",
       "Beaux Arts Village        1\n",
       "Name: city, dtype: int64"
      ]
     },
     "execution_count": 21,
     "metadata": {},
     "output_type": "execute_result"
    }
   ],
   "source": [
    "df.city.value_counts()"
   ]
  },
  {
   "cell_type": "code",
   "execution_count": 22,
   "metadata": {},
   "outputs": [
    {
     "data": {
      "image/png": "[encoded data removed]",
      "text/plain": [
       "<Figure size 1440x720 with 1 Axes>"
      ]
     },
     "metadata": {
      "needs_background": "light"
     },
     "output_type": "display_data"
    }
   ],
   "source": [
    "# Price vs. City\n",
    "plt.figure(figsize=(20, 10))\n",
    "\n",
    "plt.bar(df.city, df.price)\n",
    "plt.xticks(rotation='vertical');"
   ]
  },
  {
   "cell_type": "code",
   "execution_count": 23,
   "metadata": {},
   "outputs": [
    {
     "data": {
      "text/plain": [
       "Index(['date', 'price', 'bedrooms', 'bathrooms', 'sqft_living', 'sqft_lot',\n",
       "       'floors', 'waterfront', 'view', 'condition', 'sqft_above',\n",
       "       'sqft_basement', 'yr_built', 'yr_renovated', 'street', 'city',\n",
       "       'statezip', 'country'],\n",
       "      dtype='object')"
      ]
     },
     "execution_count": 23,
     "metadata": {},
     "output_type": "execute_result"
    }
   ],
   "source": [
    "df.columns"
   ]
  },
  {
   "cell_type": "code",
   "execution_count": 24,
   "metadata": {},
   "outputs": [
    {
     "data": {
      "text/plain": [
       "2006    109\n",
       "2005    103\n",
       "2004     92\n",
       "2007     92\n",
       "1978     90\n",
       "       ... \n",
       "1915      6\n",
       "1935      6\n",
       "1933      5\n",
       "1934      4\n",
       "1936      3\n",
       "Name: yr_built, Length: 115, dtype: int64"
      ]
     },
     "execution_count": 24,
     "metadata": {},
     "output_type": "execute_result"
    }
   ],
   "source": [
    "df.yr_built.value_counts()"
   ]
  },
  {
   "cell_type": "code",
   "execution_count": 25,
   "metadata": {},
   "outputs": [
    {
     "data": {
      "text/plain": [
       "<BarContainer object of 4549 artists>"
      ]
     },
     "execution_count": 25,
     "metadata": {},
     "output_type": "execute_result"
    },
    {
     "data": {
      "image/png": "[encoded data removed]",
      "text/plain": [
       "<Figure size 1440x720 with 1 Axes>"
      ]
     },
     "metadata": {
      "needs_background": "light"
     },
     "output_type": "display_data"
    }
   ],
   "source": [
    "# Price vs. yr_built\n",
    "\n",
    "plt.figure(figsize=(20, 10))\n",
    "\n",
    "plt.xticks(np.arange(1900, 2020, 2), rotation='vertical')\n",
    "plt.bar(df.yr_built, df.price, color='red', width=0.7)"
   ]
  },
  {
   "cell_type": "code",
   "execution_count": 26,
   "metadata": {},
   "outputs": [
    {
     "data": {
      "text/plain": [
       "2520 Mulberry Walk NE    4\n",
       "2500 Mulberry Walk NE    3\n",
       "11931 179th Pl NE        2\n",
       "2358 Fairview Ave E      2\n",
       "4924 SE 2nd Pl           2\n",
       "                        ..\n",
       "4206 SE Newport Way      1\n",
       "3009 W Emerson St        1\n",
       "20821 SE 135th St        1\n",
       "1309 SW Webster St       1\n",
       "3723 S Chicago St        1\n",
       "Name: street, Length: 4474, dtype: int64"
      ]
     },
     "execution_count": 26,
     "metadata": {},
     "output_type": "execute_result"
    }
   ],
   "source": [
    "df.street.value_counts()\n"
   ]
  },
  {
   "cell_type": "code",
   "execution_count": 27,
   "metadata": {},
   "outputs": [
    {
     "data": {
      "text/plain": [
       "Index(['date', 'price', 'bedrooms', 'bathrooms', 'sqft_living', 'sqft_lot',\n",
       "       'floors', 'waterfront', 'view', 'condition', 'sqft_above',\n",
       "       'sqft_basement', 'yr_built', 'yr_renovated', 'street', 'city',\n",
       "       'statezip', 'country'],\n",
       "      dtype='object')"
      ]
     },
     "execution_count": 27,
     "metadata": {},
     "output_type": "execute_result"
    }
   ],
   "source": [
    "df.columns"
   ]
  },
  {
   "cell_type": "markdown",
   "metadata": {},
   "source": [
    "# 3. Modeling\n",
    "\n",
    "The model is not numerical. So converting the object values into numerical values using onehotencoder.\n",
    "\n",
    "\n",
    "Let's try out few different Regressor for the prediction.\n",
    "\n",
    "1. Ridge\n",
    "2. Linear Regression\n",
    "3. SVM (linearSVC)\n",
    "4. RandomForestRegressor"
   ]
  },
  {
   "cell_type": "code",
   "execution_count": 28,
   "metadata": {},
   "outputs": [],
   "source": [
    "X = df.drop('price', axis=1)\n",
    "y = df['price']"
   ]
  },
  {
   "cell_type": "code",
   "execution_count": 29,
   "metadata": {},
   "outputs": [
    {
     "data": {
      "text/plain": [
       "<4549x4678 sparse matrix of type '<class 'numpy.float64'>'\n",
       "\twith 63287 stored elements in Compressed Sparse Row format>"
      ]
     },
     "execution_count": 29,
     "metadata": {},
     "output_type": "execute_result"
    }
   ],
   "source": [
    "## 2. Using the encoder for the conversion of objects into numerical values\n",
    "\n",
    "from sklearn.preprocessing import OneHotEncoder\n",
    "from sklearn.compose import ColumnTransformer\n",
    "\n",
    "categorical_features = ['date', 'street', 'city', 'statezip', 'country']\n",
    "transformer = ColumnTransformer([('one_hot', \n",
    "                                  OneHotEncoder(),\n",
    "                                 categorical_features)],\n",
    "                               remainder='passthrough')\n",
    "transformed_X = transformer.fit_transform(X)\n",
    "transformed_X"
   ]
  },
  {
   "cell_type": "code",
   "execution_count": 30,
   "metadata": {},
   "outputs": [
    {
     "data": {
      "text/html": [
       "<div>\n",
       "<style scoped>\n",
       "    .dataframe tbody tr th:only-of-type {\n",
       "        vertical-align: middle;\n",
       "    }\n",
       "\n",
       "    .dataframe tbody tr th {\n",
       "        vertical-align: top;\n",
       "    }\n",
       "\n",
       "    .dataframe thead th {\n",
       "        text-align: right;\n",
       "    }\n",
       "</style>\n",
       "<table border=\"1\" class=\"dataframe\">\n",
       "  <thead>\n",
       "    <tr style=\"text-align: right;\">\n",
       "      <th></th>\n",
       "      <th>0</th>\n",
       "      <th>1</th>\n",
       "      <th>2</th>\n",
       "      <th>3</th>\n",
       "      <th>4</th>\n",
       "      <th>5</th>\n",
       "      <th>6</th>\n",
       "      <th>7</th>\n",
       "      <th>8</th>\n",
       "      <th>9</th>\n",
       "      <th>...</th>\n",
       "      <th>4668</th>\n",
       "      <th>4669</th>\n",
       "      <th>4670</th>\n",
       "      <th>4671</th>\n",
       "      <th>4672</th>\n",
       "      <th>4673</th>\n",
       "      <th>4674</th>\n",
       "      <th>4675</th>\n",
       "      <th>4676</th>\n",
       "      <th>4677</th>\n",
       "    </tr>\n",
       "  </thead>\n",
       "  <tbody>\n",
       "    <tr>\n",
       "      <th>0</th>\n",
       "      <td>1.0</td>\n",
       "      <td>0.0</td>\n",
       "      <td>0.0</td>\n",
       "      <td>0.0</td>\n",
       "      <td>0.0</td>\n",
       "      <td>0.0</td>\n",
       "      <td>0.0</td>\n",
       "      <td>0.0</td>\n",
       "      <td>0.0</td>\n",
       "      <td>0.0</td>\n",
       "      <td>...</td>\n",
       "      <td>1340.0</td>\n",
       "      <td>7912.0</td>\n",
       "      <td>1.5</td>\n",
       "      <td>0.0</td>\n",
       "      <td>0.0</td>\n",
       "      <td>3.0</td>\n",
       "      <td>1340.0</td>\n",
       "      <td>0.0</td>\n",
       "      <td>1955.0</td>\n",
       "      <td>2005.0</td>\n",
       "    </tr>\n",
       "    <tr>\n",
       "      <th>1</th>\n",
       "      <td>1.0</td>\n",
       "      <td>0.0</td>\n",
       "      <td>0.0</td>\n",
       "      <td>0.0</td>\n",
       "      <td>0.0</td>\n",
       "      <td>0.0</td>\n",
       "      <td>0.0</td>\n",
       "      <td>0.0</td>\n",
       "      <td>0.0</td>\n",
       "      <td>0.0</td>\n",
       "      <td>...</td>\n",
       "      <td>3650.0</td>\n",
       "      <td>9050.0</td>\n",
       "      <td>2.0</td>\n",
       "      <td>0.0</td>\n",
       "      <td>4.0</td>\n",
       "      <td>5.0</td>\n",
       "      <td>3370.0</td>\n",
       "      <td>280.0</td>\n",
       "      <td>1921.0</td>\n",
       "      <td>0.0</td>\n",
       "    </tr>\n",
       "    <tr>\n",
       "      <th>2</th>\n",
       "      <td>1.0</td>\n",
       "      <td>0.0</td>\n",
       "      <td>0.0</td>\n",
       "      <td>0.0</td>\n",
       "      <td>0.0</td>\n",
       "      <td>0.0</td>\n",
       "      <td>0.0</td>\n",
       "      <td>0.0</td>\n",
       "      <td>0.0</td>\n",
       "      <td>0.0</td>\n",
       "      <td>...</td>\n",
       "      <td>1930.0</td>\n",
       "      <td>11947.0</td>\n",
       "      <td>1.0</td>\n",
       "      <td>0.0</td>\n",
       "      <td>0.0</td>\n",
       "      <td>4.0</td>\n",
       "      <td>1930.0</td>\n",
       "      <td>0.0</td>\n",
       "      <td>1966.0</td>\n",
       "      <td>0.0</td>\n",
       "    </tr>\n",
       "    <tr>\n",
       "      <th>3</th>\n",
       "      <td>1.0</td>\n",
       "      <td>0.0</td>\n",
       "      <td>0.0</td>\n",
       "      <td>0.0</td>\n",
       "      <td>0.0</td>\n",
       "      <td>0.0</td>\n",
       "      <td>0.0</td>\n",
       "      <td>0.0</td>\n",
       "      <td>0.0</td>\n",
       "      <td>0.0</td>\n",
       "      <td>...</td>\n",
       "      <td>2000.0</td>\n",
       "      <td>8030.0</td>\n",
       "      <td>1.0</td>\n",
       "      <td>0.0</td>\n",
       "      <td>0.0</td>\n",
       "      <td>4.0</td>\n",
       "      <td>1000.0</td>\n",
       "      <td>1000.0</td>\n",
       "      <td>1963.0</td>\n",
       "      <td>0.0</td>\n",
       "    </tr>\n",
       "    <tr>\n",
       "      <th>4</th>\n",
       "      <td>1.0</td>\n",
       "      <td>0.0</td>\n",
       "      <td>0.0</td>\n",
       "      <td>0.0</td>\n",
       "      <td>0.0</td>\n",
       "      <td>0.0</td>\n",
       "      <td>0.0</td>\n",
       "      <td>0.0</td>\n",
       "      <td>0.0</td>\n",
       "      <td>0.0</td>\n",
       "      <td>...</td>\n",
       "      <td>1940.0</td>\n",
       "      <td>10500.0</td>\n",
       "      <td>1.0</td>\n",
       "      <td>0.0</td>\n",
       "      <td>0.0</td>\n",
       "      <td>4.0</td>\n",
       "      <td>1140.0</td>\n",
       "      <td>800.0</td>\n",
       "      <td>1976.0</td>\n",
       "      <td>1992.0</td>\n",
       "    </tr>\n",
       "    <tr>\n",
       "      <th>...</th>\n",
       "      <td>...</td>\n",
       "      <td>...</td>\n",
       "      <td>...</td>\n",
       "      <td>...</td>\n",
       "      <td>...</td>\n",
       "      <td>...</td>\n",
       "      <td>...</td>\n",
       "      <td>...</td>\n",
       "      <td>...</td>\n",
       "      <td>...</td>\n",
       "      <td>...</td>\n",
       "      <td>...</td>\n",
       "      <td>...</td>\n",
       "      <td>...</td>\n",
       "      <td>...</td>\n",
       "      <td>...</td>\n",
       "      <td>...</td>\n",
       "      <td>...</td>\n",
       "      <td>...</td>\n",
       "      <td>...</td>\n",
       "      <td>...</td>\n",
       "    </tr>\n",
       "    <tr>\n",
       "      <th>4544</th>\n",
       "      <td>0.0</td>\n",
       "      <td>0.0</td>\n",
       "      <td>0.0</td>\n",
       "      <td>0.0</td>\n",
       "      <td>0.0</td>\n",
       "      <td>0.0</td>\n",
       "      <td>0.0</td>\n",
       "      <td>0.0</td>\n",
       "      <td>0.0</td>\n",
       "      <td>0.0</td>\n",
       "      <td>...</td>\n",
       "      <td>1510.0</td>\n",
       "      <td>6360.0</td>\n",
       "      <td>1.0</td>\n",
       "      <td>0.0</td>\n",
       "      <td>0.0</td>\n",
       "      <td>4.0</td>\n",
       "      <td>1510.0</td>\n",
       "      <td>0.0</td>\n",
       "      <td>1954.0</td>\n",
       "      <td>1979.0</td>\n",
       "    </tr>\n",
       "    <tr>\n",
       "      <th>4545</th>\n",
       "      <td>0.0</td>\n",
       "      <td>0.0</td>\n",
       "      <td>0.0</td>\n",
       "      <td>0.0</td>\n",
       "      <td>0.0</td>\n",
       "      <td>0.0</td>\n",
       "      <td>0.0</td>\n",
       "      <td>0.0</td>\n",
       "      <td>0.0</td>\n",
       "      <td>0.0</td>\n",
       "      <td>...</td>\n",
       "      <td>1460.0</td>\n",
       "      <td>7573.0</td>\n",
       "      <td>2.0</td>\n",
       "      <td>0.0</td>\n",
       "      <td>0.0</td>\n",
       "      <td>3.0</td>\n",
       "      <td>1460.0</td>\n",
       "      <td>0.0</td>\n",
       "      <td>1983.0</td>\n",
       "      <td>2009.0</td>\n",
       "    </tr>\n",
       "    <tr>\n",
       "      <th>4546</th>\n",
       "      <td>0.0</td>\n",
       "      <td>0.0</td>\n",
       "      <td>0.0</td>\n",
       "      <td>0.0</td>\n",
       "      <td>0.0</td>\n",
       "      <td>0.0</td>\n",
       "      <td>0.0</td>\n",
       "      <td>0.0</td>\n",
       "      <td>0.0</td>\n",
       "      <td>0.0</td>\n",
       "      <td>...</td>\n",
       "      <td>3010.0</td>\n",
       "      <td>7014.0</td>\n",
       "      <td>2.0</td>\n",
       "      <td>0.0</td>\n",
       "      <td>0.0</td>\n",
       "      <td>3.0</td>\n",
       "      <td>3010.0</td>\n",
       "      <td>0.0</td>\n",
       "      <td>2009.0</td>\n",
       "      <td>0.0</td>\n",
       "    </tr>\n",
       "    <tr>\n",
       "      <th>4547</th>\n",
       "      <td>0.0</td>\n",
       "      <td>0.0</td>\n",
       "      <td>0.0</td>\n",
       "      <td>0.0</td>\n",
       "      <td>0.0</td>\n",
       "      <td>0.0</td>\n",
       "      <td>0.0</td>\n",
       "      <td>0.0</td>\n",
       "      <td>0.0</td>\n",
       "      <td>0.0</td>\n",
       "      <td>...</td>\n",
       "      <td>2090.0</td>\n",
       "      <td>6630.0</td>\n",
       "      <td>1.0</td>\n",
       "      <td>0.0</td>\n",
       "      <td>0.0</td>\n",
       "      <td>3.0</td>\n",
       "      <td>1070.0</td>\n",
       "      <td>1020.0</td>\n",
       "      <td>1974.0</td>\n",
       "      <td>0.0</td>\n",
       "    </tr>\n",
       "    <tr>\n",
       "      <th>4548</th>\n",
       "      <td>0.0</td>\n",
       "      <td>0.0</td>\n",
       "      <td>0.0</td>\n",
       "      <td>0.0</td>\n",
       "      <td>0.0</td>\n",
       "      <td>0.0</td>\n",
       "      <td>0.0</td>\n",
       "      <td>0.0</td>\n",
       "      <td>0.0</td>\n",
       "      <td>0.0</td>\n",
       "      <td>...</td>\n",
       "      <td>1490.0</td>\n",
       "      <td>8102.0</td>\n",
       "      <td>2.0</td>\n",
       "      <td>0.0</td>\n",
       "      <td>0.0</td>\n",
       "      <td>4.0</td>\n",
       "      <td>1490.0</td>\n",
       "      <td>0.0</td>\n",
       "      <td>1990.0</td>\n",
       "      <td>0.0</td>\n",
       "    </tr>\n",
       "  </tbody>\n",
       "</table>\n",
       "<p>4549 rows × 4678 columns</p>\n",
       "</div>"
      ],
      "text/plain": [
       "      0     1     2     3     4     5     6     7     8     9     ...    4668  \\\n",
       "0      1.0   0.0   0.0   0.0   0.0   0.0   0.0   0.0   0.0   0.0  ...  1340.0   \n",
       "1      1.0   0.0   0.0   0.0   0.0   0.0   0.0   0.0   0.0   0.0  ...  3650.0   \n",
       "2      1.0   0.0   0.0   0.0   0.0   0.0   0.0   0.0   0.0   0.0  ...  1930.0   \n",
       "3      1.0   0.0   0.0   0.0   0.0   0.0   0.0   0.0   0.0   0.0  ...  2000.0   \n",
       "4      1.0   0.0   0.0   0.0   0.0   0.0   0.0   0.0   0.0   0.0  ...  1940.0   \n",
       "...    ...   ...   ...   ...   ...   ...   ...   ...   ...   ...  ...     ...   \n",
       "4544   0.0   0.0   0.0   0.0   0.0   0.0   0.0   0.0   0.0   0.0  ...  1510.0   \n",
       "4545   0.0   0.0   0.0   0.0   0.0   0.0   0.0   0.0   0.0   0.0  ...  1460.0   \n",
       "4546   0.0   0.0   0.0   0.0   0.0   0.0   0.0   0.0   0.0   0.0  ...  3010.0   \n",
       "4547   0.0   0.0   0.0   0.0   0.0   0.0   0.0   0.0   0.0   0.0  ...  2090.0   \n",
       "4548   0.0   0.0   0.0   0.0   0.0   0.0   0.0   0.0   0.0   0.0  ...  1490.0   \n",
       "\n",
       "         4669  4670  4671  4672  4673    4674    4675    4676    4677  \n",
       "0      7912.0   1.5   0.0   0.0   3.0  1340.0     0.0  1955.0  2005.0  \n",
       "1      9050.0   2.0   0.0   4.0   5.0  3370.0   280.0  1921.0     0.0  \n",
       "2     11947.0   1.0   0.0   0.0   4.0  1930.0     0.0  1966.0     0.0  \n",
       "3      8030.0   1.0   0.0   0.0   4.0  1000.0  1000.0  1963.0     0.0  \n",
       "4     10500.0   1.0   0.0   0.0   4.0  1140.0   800.0  1976.0  1992.0  \n",
       "...       ...   ...   ...   ...   ...     ...     ...     ...     ...  \n",
       "4544   6360.0   1.0   0.0   0.0   4.0  1510.0     0.0  1954.0  1979.0  \n",
       "4545   7573.0   2.0   0.0   0.0   3.0  1460.0     0.0  1983.0  2009.0  \n",
       "4546   7014.0   2.0   0.0   0.0   3.0  3010.0     0.0  2009.0     0.0  \n",
       "4547   6630.0   1.0   0.0   0.0   3.0  1070.0  1020.0  1974.0     0.0  \n",
       "4548   8102.0   2.0   0.0   0.0   4.0  1490.0     0.0  1990.0     0.0  \n",
       "\n",
       "[4549 rows x 4678 columns]"
      ]
     },
     "execution_count": 30,
     "metadata": {},
     "output_type": "execute_result"
    }
   ],
   "source": [
    "transformed_X_data = pd.DataFrame(transformed_X.toarray())\n",
    "transformed_X_data"
   ]
  },
  {
   "cell_type": "code",
   "execution_count": 35,
   "metadata": {},
   "outputs": [],
   "source": [
    "from sklearn.linear_model import Ridge\n",
    "from sklearn.ensemble import RandomForestRegressor\n",
    "from sklearn.linear_model import LinearRegression\n",
    "from sklearn.model_selection import train_test_split"
   ]
  },
  {
   "cell_type": "code",
   "execution_count": 36,
   "metadata": {},
   "outputs": [],
   "source": [
    "# Split X and y\n",
    "X_train, X_test, y_train, y_test = train_test_split(transformed_X, y ,test_size=0.2)"
   ]
  },
  {
   "cell_type": "code",
   "execution_count": 113,
   "metadata": {},
   "outputs": [],
   "source": [
    "# Put models in a dictonary \n",
    "models = {\n",
    "    'Ridge': Ridge(),\n",
    "    'Linear Regression': LinearRegression(),\n",
    "    'RandomForestRegressor': RandomForestRegressor()\n",
    "}\n",
    "\n",
    "# Create a function to fit and socre models.\n",
    "def fit_and_score(models, X_train, X_test, y_train, y_test):\n",
    "    \"\"\"\n",
    "    Fit and Evaluate given machine learning models.\n",
    "    model: a dict of different sklearn learning models.\n",
    "    \"\"\"\n",
    "    # Set random seed\n",
    "    np.random.seed(42)\n",
    "    # Make a dictonary to keep model scores\n",
    "    model_score = {}\n",
    "    # Loop throught models\n",
    "    for name, model in models.items():\n",
    "        # Fit the model to the data\n",
    "        model.fit(X_train, y_train)\n",
    "        # Evaluate the model and append its score to model_score\n",
    "        model_score[name] = model.score(X_test, y_test)\n",
    "    return model_score"
   ]
  },
  {
   "cell_type": "code",
   "execution_count": 114,
   "metadata": {},
   "outputs": [],
   "source": [
    "model_score = fit_and_score(models, X_train=X_train, X_test=X_test, y_train=y_train, y_test=y_test)"
   ]
  },
  {
   "cell_type": "code",
   "execution_count": 115,
   "metadata": {},
   "outputs": [
    {
     "data": {
      "text/plain": [
       "{'Ridge': 0.7288786421061916,\n",
       " 'Linear Regression': 0.7150756966723724,\n",
       " 'RandomForestRegressor': 0.6725664436411467}"
      ]
     },
     "execution_count": 115,
     "metadata": {},
     "output_type": "execute_result"
    }
   ],
   "source": [
    "model_score"
   ]
  },
  {
   "cell_type": "code",
   "execution_count": 116,
   "metadata": {},
   "outputs": [],
   "source": [
    "model_score_df = pd.DataFrame(model_score, index=['Accuracy'])"
   ]
  },
  {
   "cell_type": "code",
   "execution_count": 42,
   "metadata": {},
   "outputs": [
    {
     "data": {
      "text/plain": [
       "<matplotlib.axes._subplots.AxesSubplot at 0x7fc20c0f0550>"
      ]
     },
     "execution_count": 42,
     "metadata": {},
     "output_type": "execute_result"
    },
    {
     "data": {
      "image/png": "[encoded data removed]",
      "text/plain": [
       "<Figure size 432x288 with 1 Axes>"
      ]
     },
     "metadata": {
      "needs_background": "light"
     },
     "output_type": "display_data"
    }
   ],
   "source": [
    "model_score_df.T.plot.bar()"
   ]
  },
  {
   "cell_type": "code",
   "execution_count": 126,
   "metadata": {},
   "outputs": [],
   "source": [
    "grid_ridge = {\n",
    "    'alpha': np.arange(6, 100, 1)\n",
    "}\n",
    "\n",
    "# Tuning the hyperparameter using randomizesearchCV\n",
    "\n",
    "# For RandomForestRegressor\n",
    "grid_random = {'n_estimators': np.arange(10, 20, 2)}\n",
    "# grid_random = {'n_estimators': np.arange(10, 1000, 50),\n",
    "#           'max_depth': [None, 3,5 ,10],\n",
    "#           'min_samples_split': np.arange(2, 20, 2),\n",
    "#           'min_samples_leaf': np.arange(1, 20, 2)\n",
    "# }"
   ]
  },
  {
   "cell_type": "code",
   "execution_count": 127,
   "metadata": {},
   "outputs": [],
   "source": [
    "from sklearn.model_selection import RandomizedSearchCV, GridSearchCV"
   ]
  },
  {
   "cell_type": "code",
   "execution_count": 128,
   "metadata": {},
   "outputs": [],
   "source": [
    "# # Tuning RandomForestRegressor\n",
    "\n",
    "# np.random.seed(42)\n",
    "\n",
    "# randomizedSearch_rfr = RandomizedSearchCV(RandomForestRegressor(),\n",
    "#                                         param_distributions = grid_random,\n",
    "#                                         cv=5,\n",
    "#                                         n_iter=20,\n",
    "#                                         verbose=True)\n",
    "# # Fiting the model \n",
    "# randomizedSearch_rfr.fit(X_train, y_train)"
   ]
  },
  {
   "cell_type": "code",
   "execution_count": 129,
   "metadata": {},
   "outputs": [],
   "source": [
    "# Function for randomizedSearchCV\n",
    "\n",
    "def randomizedSearch( model, X_train, X_test, y_train, y_test, param_dis, n_iter):\n",
    "    \"\"\"\n",
    "    model: the estimator to tune using randomizedSearchCV\n",
    "    X_train: traning set\n",
    "    y_train: traning set\n",
    "    X_test, y_test : testing set\n",
    "    \"\"\"\n",
    "    for name, model in model.items():\n",
    "        # RandomizeSearchCV for items\n",
    "        randomizedSearchCV = RandomizedSearchCV(model, param_distributions=param_dis, cv=5, n_iter=10,\n",
    "                                               verbose=True)\n",
    "        # Fitting the model \n",
    "        randomizedSearchCV.fit(X_train, y_train)\n",
    "        randomizedBestparams = randomizedSearchCV.best_params_\n",
    "        randomizedSearch = randomizedSearchCV\n",
    "    return randomizedBestparams, randomizedSearch # Return the best parameters and the randomizedSearch model"
   ]
  },
  {
   "cell_type": "code",
   "execution_count": 130,
   "metadata": {},
   "outputs": [
    {
     "name": "stdout",
     "output_type": "stream",
     "text": [
      "Fitting 5 folds for each of 10 candidates, totalling 50 fits\n"
     ]
    },
    {
     "name": "stderr",
     "output_type": "stream",
     "text": [
      "[Parallel(n_jobs=1)]: Using backend SequentialBackend with 1 concurrent workers.\n",
      "[Parallel(n_jobs=1)]: Done  50 out of  50 | elapsed:    1.0s finished\n"
     ]
    }
   ],
   "source": [
    "rd_bp, rd_S = randomizedSearch(model = {'Ridge': Ridge()},\n",
    "                               X_train= X_train, \n",
    "                               y_train=y_train,\n",
    "                               X_test= X_test, \n",
    "                               y_test=y_test,\n",
    "                               param_dis=grid_ridge,\n",
    "                               n_iter=10)"
   ]
  },
  {
   "cell_type": "code",
   "execution_count": 131,
   "metadata": {},
   "outputs": [
    {
     "data": {
      "text/plain": [
       "{'alpha': 20}"
      ]
     },
     "execution_count": 131,
     "metadata": {},
     "output_type": "execute_result"
    }
   ],
   "source": [
    "rd_bp"
   ]
  },
  {
   "cell_type": "code",
   "execution_count": 132,
   "metadata": {},
   "outputs": [
    {
     "data": {
      "text/plain": [
       "RandomizedSearchCV(cv=5, error_score=nan,\n",
       "                   estimator=Ridge(alpha=1.0, copy_X=True, fit_intercept=True,\n",
       "                                   max_iter=None, normalize=False,\n",
       "                                   random_state=None, solver='auto',\n",
       "                                   tol=0.001),\n",
       "                   iid='deprecated', n_iter=10, n_jobs=None,\n",
       "                   param_distributions={'alpha': array([ 6,  7,  8,  9, 10, 11, 12, 13, 14, 15, 16, 17, 18, 19, 20, 21, 22,\n",
       "       23, 24, 25, 26, 27, 28, 29, 30, 31, 32, 33, 34, 35, 36, 37, 38, 39,\n",
       "       40, 41, 42, 43, 44, 45, 46, 47, 48, 49, 50, 51, 52, 53, 54, 55, 56,\n",
       "       57, 58, 59, 60, 61, 62, 63, 64, 65, 66, 67, 68, 69, 70, 71, 72, 73,\n",
       "       74, 75, 76, 77, 78, 79, 80, 81, 82, 83, 84, 85, 86, 87, 88, 89, 90,\n",
       "       91, 92, 93, 94, 95, 96, 97, 98, 99])},\n",
       "                   pre_dispatch='2*n_jobs', random_state=None, refit=True,\n",
       "                   return_train_score=False, scoring=None, verbose=True)"
      ]
     },
     "execution_count": 132,
     "metadata": {},
     "output_type": "execute_result"
    }
   ],
   "source": [
    "rd_S"
   ]
  },
  {
   "cell_type": "code",
   "execution_count": 133,
   "metadata": {},
   "outputs": [
    {
     "data": {
      "text/plain": [
       "0.7365543655039155"
      ]
     },
     "execution_count": 133,
     "metadata": {},
     "output_type": "execute_result"
    }
   ],
   "source": [
    "rd_S.score(X_test, y_test)\n",
    " # We found that the default Ridge function is way better than tuned one in this senario."
   ]
  },
  {
   "cell_type": "code",
   "execution_count": 135,
   "metadata": {},
   "outputs": [
    {
     "name": "stderr",
     "output_type": "stream",
     "text": [
      "/home/samanshrestha/anaconda3/lib/python3.7/site-packages/sklearn/model_selection/_search.py:281: UserWarning: The total space of parameters 5 is smaller than n_iter=10. Running 5 iterations. For exhaustive searches, use GridSearchCV.\n",
      "  % (grid_size, self.n_iter, grid_size), UserWarning)\n",
      "[Parallel(n_jobs=1)]: Using backend SequentialBackend with 1 concurrent workers.\n"
     ]
    },
    {
     "name": "stdout",
     "output_type": "stream",
     "text": [
      "Fitting 5 folds for each of 5 candidates, totalling 25 fits\n"
     ]
    },
    {
     "name": "stderr",
     "output_type": "stream",
     "text": [
      "[Parallel(n_jobs=1)]: Done  25 out of  25 | elapsed:  1.1min finished\n"
     ]
    }
   ],
   "source": [
    "rd_bp, rd_S = randomizedSearch(model = {'RandomForest': RandomForestRegressor()}, \n",
    "                               X_train= X_train, \n",
    "                               y_train=y_train, \n",
    "                               X_test= X_test, \n",
    "                               y_test=y_test, \n",
    "                               param_dis=grid_random, \n",
    "                               n_iter=3)"
   ]
  },
  {
   "cell_type": "code",
   "execution_count": 137,
   "metadata": {},
   "outputs": [
    {
     "data": {
      "text/plain": [
       "({'n_estimators': 18}, 0.5899599028156148)"
      ]
     },
     "execution_count": 137,
     "metadata": {},
     "output_type": "execute_result"
    }
   ],
   "source": [
    "rd_bp, rd_S.score(X_test, y_test)"
   ]
  },
  {
   "cell_type": "markdown",
   "metadata": {},
   "source": [
    "The score is off the default score. So we are dropping the RandomForestRegressor\n",
    "\n",
    "> Going throug Ridge regressor."
   ]
  },
  {
   "cell_type": "code",
   "execution_count": 146,
   "metadata": {},
   "outputs": [],
   "source": [
    "from sklearn.metrics import confusion_matrix, classification_report\n",
    "from sklearn.metrics import precision_score, recall_score, f1_score\n",
    "from sklearn.metrics import plot_roc_curve\n",
    "from sklearn.model_selection import cross_val_score"
   ]
  },
  {
   "cell_type": "code",
   "execution_count": 147,
   "metadata": {},
   "outputs": [
    {
     "data": {
      "text/plain": [
       "Ridge(alpha=20, copy_X=True, fit_intercept=True, max_iter=None, normalize=False,\n",
       "      random_state=None, solver='auto', tol=0.001)"
      ]
     },
     "execution_count": 147,
     "metadata": {},
     "output_type": "execute_result"
    }
   ],
   "source": [
    "model = Ridge(alpha=20)\n",
    "model.fit(X_train, y_train)"
   ]
  },
  {
   "cell_type": "code",
   "execution_count": 148,
   "metadata": {},
   "outputs": [
    {
     "data": {
      "text/plain": [
       "0.7365543655039155"
      ]
     },
     "execution_count": 148,
     "metadata": {},
     "output_type": "execute_result"
    }
   ],
   "source": [
    "model.score(X_test, y_test)"
   ]
  },
  {
   "cell_type": "code",
   "execution_count": 164,
   "metadata": {},
   "outputs": [
    {
     "data": {
      "text/plain": [
       "array([ 162551.54461073,  372012.3871629 ,  510235.9847075 ,\n",
       "        790834.43414367,  579828.00302199, 1882324.95157389,\n",
       "        601919.53863317,  650142.12848359,  868183.78295558,\n",
       "        318117.59762039,  630873.22233948,  804641.59414667,\n",
       "        474456.95669055,  422453.30696785, 1077229.5842438 ,\n",
       "        489097.76923931,  652715.74066755,  432055.48623758,\n",
       "        529799.78806392, 1538403.24054689,  398478.62573123,\n",
       "        880859.52773538,  488443.25904359,  535508.6105318 ,\n",
       "        529118.03673523,  240966.28657772,  849019.90406624,\n",
       "        638462.12930222,  503595.20209638,  384502.39390584,\n",
       "        483600.47191079,  433068.49453734,  459508.29120196,\n",
       "        134940.66197679,  360860.21204879,  946379.16008533,\n",
       "        181701.69794951,  426892.14219604,  633149.013755  ,\n",
       "        696641.02676147,  814511.30681709,  321413.23797757,\n",
       "       1129669.05526249,  412853.74671817,  552947.68062079,\n",
       "        300332.70472111,  532020.21075627,   76050.83472186,\n",
       "        520437.3986291 ,  400135.48952821,  317472.16650286,\n",
       "        419310.6202784 ,  232402.66939468,  555285.50387412,\n",
       "        810582.74874931,  391446.01089007,  882018.9008125 ,\n",
       "        372104.02743379,  430281.89754975,  563505.15182629,\n",
       "        489346.38559313, 1051090.08201884,  687142.99027352,\n",
       "        377429.5172678 ,  441232.42131463,  477592.92758338,\n",
       "        262485.03008211,  315948.38768614,  392917.80034119,\n",
       "        399052.07639595,  426479.55049051,  429490.18852728,\n",
       "        444425.02241186, 1182575.32748043, 1290113.30508059,\n",
       "        234233.33784806,  845283.06489818,  481989.42847739,\n",
       "        224948.55818265,  601112.76530352,  344796.3232927 ,\n",
       "        456065.84628361,  373677.15966157,  368804.57796221,\n",
       "        516295.86034283,  220246.83860209,  312093.88455538,\n",
       "        925031.31363731,  510572.58566946,  434768.81811444,\n",
       "        322433.44916129,  406428.99430007,  676893.87441759,\n",
       "        284560.13040812,  209417.68973544,  719636.84155149,\n",
       "        464114.61688201,  456222.32095117,  631727.14920702,\n",
       "        509168.0236473 ,  481456.57070106,  676287.1971096 ,\n",
       "        159633.37343021,  493806.50757561,  480140.7802482 ,\n",
       "        375442.88436725,  585553.31138704,  333893.29988019,\n",
       "        261329.49997372,  445445.07317649,  745116.50768432,\n",
       "        700841.52136444,  338744.97984205,  195572.97479329,\n",
       "        387215.51326206,   64129.5595574 ,  801426.46204717,\n",
       "       1214362.79608552,  297591.01475766,  443977.60745861,\n",
       "        824463.51572349,  466447.87325714,  425115.63848566,\n",
       "        478677.9162448 ,  637784.73769609,  397141.90140012,\n",
       "        399447.32104386,  964024.92272418,  426624.97318363,\n",
       "        422605.10945212,  114637.47716625,  742822.33749269,\n",
       "        265090.95957854,   78638.99111117,  582458.21828162,\n",
       "        197854.47410338,  326697.20671041, 1350992.87300196,\n",
       "        611102.3205375 ,  351478.23262593,  647634.85916182,\n",
       "        276162.32131728,  408781.33359997,  295166.06718726,\n",
       "        799186.09298207,  333856.75927984,  449906.34708277,\n",
       "        968802.94909845,  701072.02709754,  290315.57941377,\n",
       "        492665.9645989 ,  572076.46657236,  693850.15084189,\n",
       "        824497.16615823,  251202.49475036,  327011.99145282,\n",
       "        302702.02816757,  704860.4619375 ,  551072.51215052,\n",
       "        533239.41091423,  305798.92878762,  411470.68757006,\n",
       "        413539.98700197,  912093.52939284,  472058.05176964,\n",
       "        374995.88900951,  348635.52675093,  205045.60804322,\n",
       "        609652.33135059, 1861606.85342044,  463886.89868014,\n",
       "        749583.65197064,  342102.76801826,  948400.36492095,\n",
       "         44368.48574035,  464119.99636201,  432327.1382422 ,\n",
       "        235683.50497664,  809626.19494531,  766144.70306333,\n",
       "        554236.54159723,  313684.4754159 ,  318048.22733635,\n",
       "        580789.35858398,  421553.02878608,  538953.92606195,\n",
       "        773803.67540455,  365553.56897977, 1323671.70954199,\n",
       "        257894.79055342,  263018.46867984,  806771.47868663,\n",
       "         67310.4524366 ,  521191.37598971,  774652.53096657,\n",
       "        170114.29672277,  339204.94159327,  269176.14822287,\n",
       "        208788.48768653, 1573267.89600345,  441704.07062745,\n",
       "        809372.5612317 , 1282646.80895199,  963086.93989964,\n",
       "        582508.36762432,  429818.53447958,  613068.63571372,\n",
       "        783769.0350355 ,   68702.509229  ,  367319.92137058,\n",
       "        785283.87756736,  335847.11731637,  298621.38409521,\n",
       "        872167.07831932,  530548.27313619,  457285.53260595,\n",
       "        387800.1123578 ,  703140.27750325,  490952.20616554,\n",
       "        776497.7654501 ,  529563.61404391,  249622.06155049,\n",
       "        516341.70562952,  180583.47798907,  595524.94532535,\n",
       "        548824.04878339,  693974.59739828,  266163.91625086,\n",
       "        334415.98409378,  429244.0626378 ,  328602.12242512,\n",
       "        324073.0375829 ,  988720.37117824,  238816.16329268,\n",
       "        226827.18018851,  414359.57235029, 1434743.50304474,\n",
       "        162424.84220165,  797680.49359406,  272417.49040499,\n",
       "        319389.46641693,  375694.7358532 ,  349033.87461168,\n",
       "        473149.31000206,  377995.95638198,  924053.63873893,\n",
       "        429837.6089149 ,  411278.71229786,  620761.49123123,\n",
       "        883006.78480349,  390042.51027217,  448595.89243976,\n",
       "        762388.007024  ,  660770.44541034,   67093.54838132,\n",
       "       1103686.42127987,  228498.83362465,  291109.06193232,\n",
       "        653312.71849751,  386527.08228969, 1087212.3731998 ,\n",
       "        726639.30836366,  719052.53319175,  294046.01750262,\n",
       "        571800.40255262,  222666.73018689,  934235.51486484,\n",
       "        532307.68842466,  200424.09802227,  394991.22904668,\n",
       "        825424.83595673,  520595.98350273,   92827.91979713,\n",
       "        308186.88865605,  459957.75292227,  417667.11345628,\n",
       "        702537.94678142,  305983.47742029,  766640.61685396,\n",
       "        268437.37727643,  521241.49095389,  591170.77904531,\n",
       "        317218.30736284, 1169666.61201132,  369465.2237658 ,\n",
       "        656381.79201713,  602760.41644837,  225464.92239553,\n",
       "        787259.99630327,  731069.26643908,  508819.65044692,\n",
       "        261720.99470176,  309590.78360841, 1009815.01074286,\n",
       "        972310.51923637,  283122.04898351,  488466.96258027,\n",
       "        425430.98645736,  424030.64916784,  314362.90260827,\n",
       "        218432.9314889 ,  593837.11057486,  466176.68641358,\n",
       "        387836.02207779,  345226.58240637,  612081.38916939,\n",
       "        747349.70273199,  417287.08391626, 1111540.40122915,\n",
       "        557947.70605198,  457898.04722276,  516953.34683056,\n",
       "        919246.27622738,  709691.20537482,  434661.51457724,\n",
       "        567583.35787344,  447050.37851902,  506418.19688698,\n",
       "       1321837.84864468,  439535.55910249,  549081.79840056,\n",
       "        815549.03925659, 1039973.04027204,  741579.45471671,\n",
       "       3529687.01130512,  540713.18369022,  546422.99903421,\n",
       "        662786.65926754,  349121.11875313,  397376.36903164,\n",
       "        468809.25115474,  401824.73466223,  292756.60602679,\n",
       "        423542.71578017,  989172.19916603,  349493.28299836,\n",
       "        738801.50486757,  359090.53552252,  266924.56453047,\n",
       "        452814.64647452,  423787.28500611,  372727.00945751,\n",
       "       1602015.24124918,  254928.38548397,  301057.44621002,\n",
       "        226160.76806934,  524655.23014323,  502255.76365651,\n",
       "        581465.58306555,  438752.36674914, 1727334.48442866,\n",
       "        552016.05168548,  958564.28748809,  615868.04870121,\n",
       "        351866.85884054,  460873.7054772 , 1203741.42603968,\n",
       "        219229.8694777 ,  343658.48695789, 1848211.48632408,\n",
       "       1200821.02556688,  418046.08744945,  440547.62284231,\n",
       "        197182.66928441,  310193.78397428,  395269.83574263,\n",
       "        328812.41900147,  521732.90551746,  761655.66778895,\n",
       "        761276.11970279,  782386.32727183,  262158.12848413,\n",
       "        294241.20342538,  456010.93618358,  314108.74929888,\n",
       "        581154.29090675,  796889.46240037,  431888.13821891,\n",
       "        424919.09938765,  658405.61854811,   65244.48340733,\n",
       "        445541.3222028 ,  353261.61025884,  419607.8518103 ,\n",
       "        508420.52457244,  675565.16319926,  194190.19479829,\n",
       "        127330.3622406 ,   81594.30692308,  536566.42945866,\n",
       "        568229.84068994,  545653.30202034,  343496.18953593,\n",
       "        434174.99939274,  794154.25564233,  897617.1003491 ,\n",
       "        574782.742154  ,  390578.94566456,  370192.63586723,\n",
       "        446173.61571851,  606060.11229117,  179886.57370786,\n",
       "        469900.01133982,  232519.46541173,  469423.34272466,\n",
       "        642765.3117103 ,  581822.8899353 ,  606234.40950786,\n",
       "        491001.86698101,  307275.59741485,  345973.99283741,\n",
       "        711386.5146251 ,  767549.32870119, 1468617.87093729,\n",
       "        570537.14442675,  536202.84942576,  207485.16671275,\n",
       "        573534.82975764,  737234.54419081,  623162.54424093,\n",
       "        885713.26683138,  208914.28681114,  525866.05291776,\n",
       "        370909.56766358,  467193.87614926,  396363.34908319,\n",
       "        481891.86793949,  411031.93970807,  279233.14249108,\n",
       "        642628.09545315,  701585.18566835,  764144.47067022,\n",
       "        905704.60061367,  229846.44475277,  438994.57777802,\n",
       "        453695.90920428,  291434.10563784,  497803.65105687,\n",
       "       1332995.32300716,  734636.68600547,  404553.27209086,\n",
       "        691365.88602059,  411414.25231421, 1194983.86410479,\n",
       "        951909.88326473,  707511.78659465,  587257.3134971 ,\n",
       "        972391.58253151,  516129.04285724,  455806.28970933,\n",
       "        272312.46766617,  243157.90077328,  355447.68477454,\n",
       "        802303.53583619, 1050643.27052505,  274126.186381  ,\n",
       "        858266.11439101,  386287.04549552,  498960.98046524,\n",
       "        354048.96070771,  205912.575239  ,  400509.83830769,\n",
       "        543213.29567   ,  766785.98424737,  662452.85218059,\n",
       "        509595.7175108 ,  248108.37504244,  400272.24167526,\n",
       "        499452.90023573,  569210.60522618,  763998.3275701 ,\n",
       "        370214.74612184,  251280.69968084,  382669.56417047,\n",
       "        465675.27067579,  174905.43472118,  705059.5051153 ,\n",
       "        347505.21817004,  449416.75587832, 1076961.29208492,\n",
       "        495855.16574689,  658301.52585362,  562445.69509286,\n",
       "        633460.1845239 , 1482058.1592038 ,  536451.04899263,\n",
       "        979843.30972257,  449569.58197974, 1259018.23664042,\n",
       "        813377.28431852,  924042.45202412,  716033.97235884,\n",
       "        999749.87238172, 1802442.04911934,  471575.61148325,\n",
       "        620996.62037987,  426905.49997581,  737455.78031166,\n",
       "        863252.13038628, 1321699.65305477,  591475.65554044,\n",
       "       1280466.26539429,  309084.43608122,  701608.04571955,\n",
       "        257129.09900403,  381279.40639898,  930913.39358326,\n",
       "       1008386.57658072,  649580.0772129 ,  359759.76283933,\n",
       "        357638.87306313,  199124.17050873,  608965.57763007,\n",
       "        500760.27055179,  110235.84042671,  450712.58879096,\n",
       "        449360.48482363,  965566.44796459,  230982.79081341,\n",
       "        379374.98138847, 1014667.86221605,  451679.70342282,\n",
       "        743466.01914935,  379228.08691405,  129843.13010076,\n",
       "        431283.70492174,  318182.95877504,  363989.51830173,\n",
       "        392011.60184384,  763287.36634837, 1121122.76091708,\n",
       "        620913.51231815,  615596.08105407,  741525.96345348,\n",
       "        857314.13804194,  708969.25072977,  599235.32810767,\n",
       "        346738.18578079,  677383.00667364,  659603.94564348,\n",
       "        602412.56728376,  300057.76141804,  305346.79784044,\n",
       "        418151.54422013,  791779.02294709,  790552.07864878,\n",
       "        336046.18924934,  605975.56641808,  639864.99344777,\n",
       "        936989.88842398,  372790.35397044,  385275.89331335,\n",
       "        168030.33908257,  566407.77111832,  671857.83550293,\n",
       "        695182.60826003,  356522.55533091,  878836.96402503,\n",
       "        388798.63467634,  743037.20349338,  426710.72180876,\n",
       "       1076648.72530218,  894115.31074617,  298491.48771559,\n",
       "        434650.70957674,  226930.662342  ,  517947.38478031,\n",
       "        176569.77736496,  454006.31659762,  776430.674747  ,\n",
       "        781987.27768887,  730676.27373686,  787577.47631651,\n",
       "        457175.09545313,  313078.56927063,  435578.29796945,\n",
       "        266893.0593543 ,  360700.36698357,  919797.08182395,\n",
       "        316950.75214687,  189162.47798542, 1314326.21675256,\n",
       "        811163.77163735,  534308.80563367,  471213.62478839,\n",
       "        355072.91940732,  441007.82285754, 1070995.73246359,\n",
       "       2074594.78471199,  470184.14607381,  494318.50925752,\n",
       "        613705.01927776, 1085116.60225875,   22484.97626541,\n",
       "        456963.67365342,  484300.59574993,  836051.89683886,\n",
       "        713695.28580437,  635218.59372308, 1034088.29976173,\n",
       "        465521.11752776,  552718.78915308,  261088.39536642,\n",
       "        858815.89816073,  305680.36737263,  340465.95168185,\n",
       "        426277.82205819,  192956.53105558,  572716.23346256,\n",
       "        513689.05268759,  320297.46545332,  701829.03254158,\n",
       "       1217833.93988919,  499394.03588218,  653118.70859143,\n",
       "        149000.05906215,  421129.72496084,  224742.19689319,\n",
       "        424756.55302842,  576430.53531835,  460265.61256332,\n",
       "        736589.08279067,  521123.57232198,  395761.82251095,\n",
       "        604877.62692407,  690638.88944846,  599233.2418013 ,\n",
       "        259610.85630144,   77742.05800577,  316244.98089579,\n",
       "        290566.79093309,  103466.01010324,  277522.85739503,\n",
       "        296033.87469991,  429113.41555983, 1127898.22362461,\n",
       "        478349.44600522, 1117858.56824186,  506953.43391262,\n",
       "        636348.76430506,  323831.0972811 ,  698552.36958787,\n",
       "        450513.64175998,  948953.6018326 ,  632908.11347869,\n",
       "        675735.79554826,  682724.59682631,  283326.50519328,\n",
       "        258367.45164044,  320379.68851466,  851667.19519724,\n",
       "        317020.12020498,  146910.86768638,  170400.01148095,\n",
       "        525899.94910855,  664737.60662174,  220767.00857936,\n",
       "        321813.44134358,  300035.49401685,  577772.53979571,\n",
       "        376115.94429064,  470640.5042585 ,  580577.5012396 ,\n",
       "        401030.81967994, 1117824.49466765,  340031.15734544,\n",
       "        557745.25844904,  645127.74680249,  833274.67315185,\n",
       "        243929.30719061,  407892.96302252,  253613.45863148,\n",
       "        245341.75941232,  471514.27054756,  474829.66631109,\n",
       "        492928.25527714,   68430.08130929,  279037.54022966,\n",
       "        362959.29591339,  286059.91521798,  471889.6316949 ,\n",
       "        194000.8525056 ,  436528.37443772,  678294.02334024,\n",
       "        401606.33717961,  373470.88878199,  348217.70175536,\n",
       "        442844.84189334,  928946.86276128,  222107.22716703,\n",
       "        781052.53171825, 1083992.26528296,  487372.37688688,\n",
       "       1250432.60405711,  484174.22704556,  206955.19937361,\n",
       "        426011.53053438,  269443.75891064,  572111.4524635 ,\n",
       "        337758.11604203,  628375.81569117,  932507.76430973,\n",
       "       1008674.3115334 ,  333660.43878441,  499671.04399021,\n",
       "        163311.43244533,  814872.05217596,  996952.55112439,\n",
       "        452484.98610236,  388711.56760155,  724248.12342678,\n",
       "       1010873.08343907,  364064.83954476,  613069.5016398 ,\n",
       "        699556.14204738,  852433.35096609,  188348.31682485,\n",
       "        647762.95593107, 1080595.58846766,  262158.64278513,\n",
       "        261598.44552951,  872951.53489676,  293288.3292858 ,\n",
       "        365951.0153381 ,  710818.73961533,  630739.97487219,\n",
       "        753861.01188527,  534936.58298176,  769301.77578313,\n",
       "        281699.50717502,  188496.8056975 ,  272341.6178695 ,\n",
       "        348150.39572267,  305377.56833394,  169093.44615879,\n",
       "        756600.87553671,  512623.46398747,  336432.35392072,\n",
       "        573574.61642693,  569934.25022992,  573414.68803891,\n",
       "        925274.95067363,  353904.93798973,  392052.51891671,\n",
       "        285737.85964216, 1553593.45221178,  213721.56804595,\n",
       "        268624.1631112 ,  406816.6505195 ,  580470.84199187,\n",
       "        515983.00912641, 1020038.18182879, 1214750.62547655,\n",
       "        290022.21886011,  601979.00905613,  336237.1414743 ,\n",
       "        798086.23718795,  897149.52863103,  916121.31972584,\n",
       "        696798.50595358, 1284464.75467202,  300597.17235888,\n",
       "        640180.72826922,  647746.7447499 ,  281432.47361526,\n",
       "        836795.50748163,  744145.0044787 ,  190872.58657101,\n",
       "        355199.86204866,  178955.81393071,  340323.32660959,\n",
       "        338807.9128622 ,  351606.21218943,  379197.81085116,\n",
       "        477106.29762177,  480445.63575496,  233257.28076234,\n",
       "        494696.91681429,  241087.40511976,  508652.68464497,\n",
       "        710974.89275095,  555344.79915151, 1240334.21031178,\n",
       "       1312846.15999791,  244310.6864619 ,  627299.77435388,\n",
       "        566302.7208317 ,  720050.57030768,  821630.43798462,\n",
       "        694830.91540324,  504264.63501153,  991873.94206178,\n",
       "        410242.99179506,  552851.38637314,  288849.40738923,\n",
       "       1036675.69790647,  546757.24066653,  584481.91082963,\n",
       "        271298.48093122,  404978.75818197,  825727.84405869,\n",
       "        583146.2395701 ,  533297.47635062,  261801.69766576,\n",
       "        703811.1528732 ,  796844.37139104,  833610.71901292,\n",
       "        814425.68600943, 1540728.42218845,  116115.71391753,\n",
       "        680898.98189818,  694083.14013109,  501476.39285929,\n",
       "        923943.75008102,  459422.70145987,  416632.82562039,\n",
       "        484447.73001223,  399006.67811891,  247106.94147486,\n",
       "        916448.43167479,  396723.65884369,  307282.98863475,\n",
       "        269244.32276705,  649144.91118533,  319930.47281291,\n",
       "        366065.52133608,  584721.87182712, 1275976.40731291,\n",
       "        144049.80628062, 1186475.82087355,  399302.69091581,\n",
       "        193936.62997394,  291241.68508956,  276869.1654035 ,\n",
       "        231935.29926106,  499562.98470847,  703861.48497666,\n",
       "        784766.30727951,  347488.14420866,  610790.28713029,\n",
       "        542728.72172615,  355376.09108066,  471710.81356109,\n",
       "        670542.1617921 ,  496235.57368497,  548641.56518412,\n",
       "        288372.13871582,  203896.6156281 ,  589449.9388891 ,\n",
       "        641000.09533325,  532887.52663607,  604419.18890045,\n",
       "        365466.01618406,  497004.77858769,  670229.47129015,\n",
       "        403019.2391583 ,  366954.53039226,  749408.82626814,\n",
       "        135326.62943438,  685325.74586727,  617405.93500556,\n",
       "        731958.46964901,  518218.80648558,  999759.74905783,\n",
       "       1443824.73719003,  322565.8760308 ,  236410.69739933,\n",
       "        273506.18603899,  446952.49777668,  724886.05803808,\n",
       "        624376.92221981, 1590239.73707841,  627803.99090873,\n",
       "        369906.79210719, 1042855.85343886,  493667.44370759,\n",
       "        779412.86240374,  986576.98186056,  127411.61637584,\n",
       "        889708.82425893,  596279.07276364,  159777.46371289,\n",
       "        721283.5748423 ,  589006.81781696,  578518.84456773,\n",
       "        195776.85920617,  927438.00062929,  708789.07676818,\n",
       "        343398.28034388,  783924.60174045,  515741.56517421,\n",
       "        333482.39565958,  508840.44421219,  219221.05637124,\n",
       "        707141.35517111, 1252234.79825083,  348397.61643749,\n",
       "        350328.8782067 ,  414866.01223803,  283318.05229567,\n",
       "       1066198.8016664 ,  513054.14336262, 1380213.4224694 ,\n",
       "        681499.95726968,  374051.46727493,  398227.75640765,\n",
       "        761078.00801569,  983030.37825061,  994091.61842256,\n",
       "        955317.22805408])"
      ]
     },
     "execution_count": 164,
     "metadata": {},
     "output_type": "execute_result"
    }
   ],
   "source": [
    "y_preds = model.predict(X_test)\n",
    "y_preds"
   ]
  },
  {
   "cell_type": "code",
   "execution_count": 171,
   "metadata": {},
   "outputs": [
    {
     "data": {
      "text/plain": [
       "1512    1.869500e+05\n",
       "4586    4.302778e+05\n",
       "179     5.200000e+05\n",
       "2184    7.400000e+05\n",
       "2053    5.700000e+05\n",
       "            ...     \n",
       "490     4.100000e+05\n",
       "2520    7.350000e+05\n",
       "862     1.216000e+06\n",
       "3794    9.525000e+05\n",
       "4060    8.750000e+05\n",
       "Name: price, Length: 910, dtype: float64"
      ]
     },
     "execution_count": 171,
     "metadata": {},
     "output_type": "execute_result"
    }
   ],
   "source": [
    "y_test"
   ]
  },
  {
   "cell_type": "code",
   "execution_count": 172,
   "metadata": {},
   "outputs": [
    {
     "name": "stdout",
     "output_type": "stream",
     "text": [
      "Predicted Values: 162551.5446107313 and Actual Value: 186950.0\n",
      "Predicted Values: 372012.38716290356 and Actual Value: 430277.777778\n",
      "Predicted Values: 510235.98470749706 and Actual Value: 520000.0\n",
      "Predicted Values: 790834.4341436735 and Actual Value: 740000.0\n",
      "Predicted Values: 579828.0030219902 and Actual Value: 570000.0\n",
      "Predicted Values: 1882324.9515738895 and Actual Value: 3200000.0\n",
      "Predicted Values: 601919.5386331724 and Actual Value: 612500.0\n",
      "Predicted Values: 650142.1284835939 and Actual Value: 615000.0\n",
      "Predicted Values: 868183.7829555837 and Actual Value: 736500.0\n",
      "Predicted Values: 318117.59762039245 and Actual Value: 328500.0\n",
      "Predicted Values: 630873.222339477 and Actual Value: 625000.0\n",
      "Predicted Values: 804641.5941466714 and Actual Value: 790000.0\n",
      "Predicted Values: 474456.9566905461 and Actual Value: 580000.0\n",
      "Predicted Values: 422453.3069678523 and Actual Value: 435000.0\n",
      "Predicted Values: 1077229.5842437989 and Actual Value: 835000.0\n",
      "Predicted Values: 489097.7692393109 and Actual Value: 559000.0\n",
      "Predicted Values: 652715.7406675483 and Actual Value: 571000.0\n",
      "Predicted Values: 432055.48623757786 and Actual Value: 511555.0\n",
      "Predicted Values: 529799.7880639217 and Actual Value: 305000.0\n",
      "Predicted Values: 1538403.2405468898 and Actual Value: 2351956.0\n"
     ]
    }
   ],
   "source": [
    "# Showing the data \n",
    "for i in range(0,20):\n",
    "    print(f'Predicted Values: {y_preds[i]} and Actual Value: {y_test.iloc[i]}')"
   ]
  },
  {
   "cell_type": "code",
   "execution_count": null,
   "metadata": {},
   "outputs": [],
   "source": []
  }
 ],
 "metadata": {
  "kernelspec": {
   "display_name": "Python 3",
   "language": "python",
   "name": "python3"
  },
  "language_info": {
   "codemirror_mode": {
    "name": "ipython",
    "version": 3
   },
   "file_extension": ".py",
   "mimetype": "text/x-python",
   "name": "python",
   "nbconvert_exporter": "python",
   "pygments_lexer": "ipython3",
   "version": "3.7.6"
  }
 },
 "nbformat": 4,
 "nbformat_minor": 4
}
